{
 "cells": [
  {
   "cell_type": "markdown",
   "metadata": {},
   "source": [
    "<hr style=\"height:3px\">\n",
    "## TUTORIAL DE COMO CREAR UN PDF EN R STUDIO\n",
    "Este documento tiene como proposito presentar como crear un PDF en R Studio\n",
    "<hr style=\"height:2px\">\n",
    "## 1. Descargar MikeTex\n",
    "\n",
    "Este te permite que R pueda abrir archivos en Markdown\n",
    "\n",
    "## 2. Abrir un archivo en Mark Down\n",
    "    \n",
    "En la opción **File** de R Studio ingrese a **New File** y seleccióne __R Markdown__\n",
    "\n",
    "![alt text](Markdown pdf.png \"Titulo\")  \n",
    "\n",
    "## 3. Definir datos de entrada del pdf a crear\n",
    "\n",
    "Luego de definir markdown aparece una ventana emergente\n",
    "\n",
    "![alt text](Ventana PDF.png \"Titulo\")  \n",
    "\n",
    "En esta se debe seleccionar el **titulo del archivo**, **Autor** y **Formato de salida** para este último se debe seleccionar entre PDF, HTLM y Word\n",
    "\n",
    "## 4. Generación de nuevo PDF\n",
    "\n",
    "Para generar el nuevo archivo PDF con los codigos y gráficos creados en R se debe seleccionar la opción **Knitpdf** ubicada en la barra del scrip \n",
    "\n",
    "![alt text](Generar PDF.png \"Titulo\") \n",
    "\n",
    "Luego en la ventana emergente seleccione el lugar donde se quiere guardar el archivo y en la casilla **Nombre** se debe seleccionar el nombre del archivo a crear\n",
    "\n",
    "![alt text](Guardar PDF.png \"Titulo\") \n",
    "\n",
    "## 5. Visualización del nuevo PDF\n",
    "\n",
    "Luego de seleccionar el nombre del PDF en la venta emergente y seleccionar donde guardarlo, se selecciona el botón **Guardar** el cual ejecuta __R Studio__ y visualiza el nuevo PDF en una ventana aparte así\n",
    "\n",
    "![alt text](Nuevo PDF.png \"Titulo\")\n",
    "\n",
    "### Al realizar estos cinco pasos podemos entonces generar un archivo PDF que nos muestre el resultado de lo que desarrollamos en R Studio y el código usado\n"
   ]
  }
 ],
 "metadata": {
  "kernelspec": {
   "display_name": "Python 3",
   "language": "python",
   "name": "python3"
  },
  "language_info": {
   "codemirror_mode": {
    "name": "ipython",
    "version": 3
   },
   "file_extension": ".py",
   "mimetype": "text/x-python",
   "name": "python",
   "nbconvert_exporter": "python",
   "pygments_lexer": "ipython3",
   "version": "3.5.1"
  }
 },
 "nbformat": 4,
 "nbformat_minor": 0
}
